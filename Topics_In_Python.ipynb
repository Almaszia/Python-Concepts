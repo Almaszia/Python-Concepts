{
 "cells": [
  {
   "cell_type": "markdown",
   "metadata": {},
   "source": [
    "Demonstrating the uses of the unpacking operator (**) in Python.\n",
    "\n",
    "In Python, the unpacking operator (`**`) has several uses, primarily revolving around dictionaries. It allows for concise and flexible code in various scenarios."
   ]
  },
  {
   "cell_type": "markdown",
   "metadata": {},
   "source": [
    "1. Unpacking Dictionaries into Keyword Arguments\n",
    "The unpacking operator is commonly used to pass a dictionary as a sequence of keyword arguments to a function. This is particularly useful when you have a dictionary containing key-value pairs that you want to use as arguments for a function call."
   ]
  },
  {
   "cell_type": "code",
   "execution_count": null,
   "metadata": {},
   "outputs": [],
   "source": [
    "def function(a,b,c):\n",
    "    print(f\"a: {a}\")\n",
    "    print(f\"b: {b}\")\n",
    "    print(f\"c: {c}\")\n",
    "\n",
    "\n",
    "my_dict = { \"a\": 1, \"b\":2, \"c\":3}\n",
    "function(**my_dict)"
   ]
  }
 ],
 "metadata": {
  "kernelspec": {
   "display_name": ".venv",
   "language": "python",
   "name": "python3"
  },
  "language_info": {
   "codemirror_mode": {
    "name": "ipython",
    "version": 3
   },
   "file_extension": ".py",
   "mimetype": "text/x-python",
   "name": "python",
   "nbconvert_exporter": "python",
   "pygments_lexer": "ipython3",
   "version": "3.9.12"
  }
 },
 "nbformat": 4,
 "nbformat_minor": 2
}
