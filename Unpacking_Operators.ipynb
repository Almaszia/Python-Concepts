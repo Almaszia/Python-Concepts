{
 "cells": [
  {
   "cell_type": "markdown",
   "metadata": {},
   "source": [
    "Demonstrating the uses of the unpacking operator (**) in Python.\n",
    "\n",
    "In Python, the unpacking operator (`**`) has several uses, primarily revolving around dictionaries. It allows for concise and flexible code in various scenarios."
   ]
  },
  {
   "cell_type": "markdown",
   "metadata": {},
   "source": [
    "1. Unpacking Dictionaries into Keyword Arguments\n",
    "\n",
    "The unpacking operator is commonly used to pass a dictionary as a sequence of keyword arguments to a function. This is particularly useful when you have a dictionary containing key-value pairs that you want to use as arguments for a function call."
   ]
  },
  {
   "cell_type": "code",
   "execution_count": null,
   "metadata": {},
   "outputs": [],
   "source": [
    "def function(a,b,c):\n",
    "    print(f\"a: {a}\")\n",
    "    print(f\"b: {b}\")\n",
    "    print(f\"c: {c}\")\n",
    "\n",
    "\n",
    "my_dict = { \"a\": 1, \"b\":2, \"c\":3}\n",
    "function(**my_dict)"
   ]
  },
  {
   "cell_type": "markdown",
   "metadata": {},
   "source": [
    "2. Merging Dictionaries\n",
    "\n",
    "The unpacking operator can merge two dictionaries into a single dictionary, combining their key-value pairs. If there are duplicate keys, the values from the second dictionary overwrite those from the first."
   ]
  },
  {
   "cell_type": "code",
   "execution_count": 3,
   "metadata": {},
   "outputs": [
    {
     "name": "stdout",
     "output_type": "stream",
     "text": [
      "Merged Dictionary: {'a': 1, 'b': 3, 'd': 4}\n"
     ]
    }
   ],
   "source": [
    "dict1 = {\"a\":1, \"b\":2}\n",
    "dict2 = {\"b\":3, \"d\":4}\n",
    "\n",
    "merged_dict = {**dict1, **dict2}\n",
    "print(f\"Merged Dictionary: {merged_dict}\")"
   ]
  },
  {
   "cell_type": "markdown",
   "metadata": {},
   "source": [
    "3. Copying Dictionaries\n",
    "\n",
    "The unpacking operator can create a shallow copy of a dictionary. This ensures that changes made to the copied dictionary do not affect the original, and vice versa."
   ]
  },
  {
   "cell_type": "code",
   "execution_count": 4,
   "metadata": {},
   "outputs": [],
   "source": [
    "original_dict = {'a': 1, 'b': 2}\n",
    "\n",
    "copied_dict = {**original_dict}"
   ]
  },
  {
   "cell_type": "markdown",
   "metadata": {},
   "source": [
    "4. Updating Dictionaries\n",
    "\n",
    "The operator can update the contents of a dictionary with the contents of another dictionary. Similar to merging, if there are duplicate keys, the values from the second dictionary overwrite those from the first."
   ]
  },
  {
   "cell_type": "code",
   "execution_count": 5,
   "metadata": {},
   "outputs": [
    {
     "name": "stdout",
     "output_type": "stream",
     "text": [
      "Base Dictionary: {'a': 1, 'b': 3, 'c': 4}\n"
     ]
    }
   ],
   "source": [
    "base_dict = {'a': 1, 'b': 2}\n",
    "update_dict = {'b': 3, 'c': 4}\n",
    "\n",
    "base_dict = {**base_dict, **update_dict}\n",
    "print(f\"Base Dictionary: {base_dict}\")"
   ]
  },
  {
   "cell_type": "markdown",
   "metadata": {},
   "source": [
    "5. Passing Variable Keyword Arguments\n",
    "\n",
    "Additionally, the operator can be used to pass variable keyword arguments (**kwargs) to functions, enabling functions to accept arbitrary keyword arguments."
   ]
  },
  {
   "cell_type": "code",
   "execution_count": 7,
   "metadata": {},
   "outputs": [
    {
     "name": "stdout",
     "output_type": "stream",
     "text": [
      "name Alice\n",
      "age 25\n",
      "city London\n"
     ]
    }
   ],
   "source": [
    "def function(**kwargs):\n",
    "\n",
    "    for key,value in kwargs.items():\n",
    "        print(f\"{key} {value}\")\n",
    "\n",
    "my_dict = {'name': 'Alice', 'age': 25, 'city': 'London'}\n",
    "function(**my_dict)\n"
   ]
  }
 ],
 "metadata": {
  "kernelspec": {
   "display_name": ".venv",
   "language": "python",
   "name": "python3"
  },
  "language_info": {
   "codemirror_mode": {
    "name": "ipython",
    "version": 3
   },
   "file_extension": ".py",
   "mimetype": "text/x-python",
   "name": "python",
   "nbconvert_exporter": "python",
   "pygments_lexer": "ipython3",
   "version": "3.9.12"
  }
 },
 "nbformat": 4,
 "nbformat_minor": 2
}
